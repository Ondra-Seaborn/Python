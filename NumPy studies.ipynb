{
 "cells": [
  {
   "cell_type": "code",
   "execution_count": 1,
   "id": "0d2e28b4-e591-43e1-9427-a09c302d74bc",
   "metadata": {},
   "outputs": [],
   "source": [
    "import numpy as np"
   ]
  },
  {
   "cell_type": "code",
   "execution_count": 2,
   "id": "938d0cc6-a611-4b21-ac1c-009cede49674",
   "metadata": {},
   "outputs": [],
   "source": [
    "ab = [2,4,6]"
   ]
  },
  {
   "cell_type": "code",
   "execution_count": 3,
   "id": "05f1d416-3426-465d-95ac-2adf482c0842",
   "metadata": {},
   "outputs": [
    {
     "name": "stdout",
     "output_type": "stream",
     "text": [
      "<class 'list'>\n"
     ]
    }
   ],
   "source": [
    "print(type(ab))"
   ]
  },
  {
   "cell_type": "code",
   "execution_count": 5,
   "id": "c337b16c-d29a-4b7f-b6b1-0dae5b88ff8d",
   "metadata": {},
   "outputs": [
    {
     "name": "stdout",
     "output_type": "stream",
     "text": [
      "<class 'numpy.ndarray'>\n"
     ]
    }
   ],
   "source": [
    "arr1= np.array(ab)\n",
    "print(type(arr1))"
   ]
  },
  {
   "cell_type": "code",
   "execution_count": 7,
   "id": "e7f38b96-4fd9-41af-9b5a-29ac1aa31637",
   "metadata": {},
   "outputs": [
    {
     "name": "stdout",
     "output_type": "stream",
     "text": [
      "[2 3 5]\n"
     ]
    }
   ],
   "source": [
    "arr2 = np.array([2,3,5])\n",
    "print(arr2)"
   ]
  },
  {
   "cell_type": "code",
   "execution_count": 9,
   "id": "5c1faf29-b220-4eae-9959-b7eebcac809b",
   "metadata": {},
   "outputs": [
    {
     "name": "stdout",
     "output_type": "stream",
     "text": [
      "[ 0 -1 -1]\n"
     ]
    }
   ],
   "source": [
    "arr3 = arr2-arr1\n",
    "print(arr3)"
   ]
  },
  {
   "cell_type": "code",
   "execution_count": 10,
   "id": "ff8fbb4c-de1b-4f44-b85a-9c6dff8c588c",
   "metadata": {},
   "outputs": [
    {
     "name": "stdout",
     "output_type": "stream",
     "text": [
      "[ 4 12 30]\n"
     ]
    }
   ],
   "source": [
    "arr4 = arr2*arr1\n",
    "print(arr4)"
   ]
  },
  {
   "cell_type": "code",
   "execution_count": 11,
   "id": "521cc693-113d-4bab-8537-2c9cedf07a0b",
   "metadata": {},
   "outputs": [
    {
     "name": "stdout",
     "output_type": "stream",
     "text": [
      "46\n"
     ]
    }
   ],
   "source": [
    "arr5 = np.dot(arr1,arr2)\n",
    "print (arr5)"
   ]
  },
  {
   "cell_type": "code",
   "execution_count": 22,
   "id": "a0efd663-b6ad-4ca4-b0d7-f660ca8540f3",
   "metadata": {},
   "outputs": [
    {
     "name": "stdout",
     "output_type": "stream",
     "text": [
      "[2 6]\n"
     ]
    }
   ],
   "source": [
    "arr1a = arr1[0:3:2]\n",
    "print(arr1a)"
   ]
  },
  {
   "cell_type": "code",
   "execution_count": 28,
   "id": "3bb7f9aa-de72-4d4b-84f6-4ea5e53c3003",
   "metadata": {},
   "outputs": [
    {
     "name": "stdout",
     "output_type": "stream",
     "text": [
      "(3, 3)\n"
     ]
    }
   ],
   "source": [
    "arr10 = np.array([[4,5,2],[3,2,5],[6,5,6]])\n",
    "print (arr10.shape)"
   ]
  },
  {
   "cell_type": "code",
   "execution_count": 29,
   "id": "ef99ad6a-e233-4c88-a82d-3637c775ecf6",
   "metadata": {},
   "outputs": [
    {
     "name": "stdout",
     "output_type": "stream",
     "text": [
      "[[1. 0. 0. 0.]\n",
      " [0. 1. 0. 0.]\n",
      " [0. 0. 1. 0.]]\n"
     ]
    }
   ],
   "source": [
    "arr11 = np.eye(3,4)\n",
    "print(arr11)"
   ]
  },
  {
   "cell_type": "code",
   "execution_count": 31,
   "id": "c5a8cf31-1072-4046-81a5-1b787cdbe73a",
   "metadata": {},
   "outputs": [
    {
     "name": "stdout",
     "output_type": "stream",
     "text": [
      "[[0. 0. 0. 0. 0.]\n",
      " [0. 0. 0. 0. 0.]]\n"
     ]
    }
   ],
   "source": [
    "arr12 = np.zeros([2,5])\n",
    "print(arr12) "
   ]
  },
  {
   "cell_type": "code",
   "execution_count": 37,
   "id": "4b7d9427-ce9c-4aff-bc97-bf074eccc297",
   "metadata": {},
   "outputs": [
    {
     "name": "stdout",
     "output_type": "stream",
     "text": [
      "[[4 4]\n",
      " [4 4]]\n"
     ]
    }
   ],
   "source": [
    "arr13 = np.full([2,2],4)\n",
    "print(arr13)"
   ]
  },
  {
   "cell_type": "code",
   "execution_count": 39,
   "id": "ef7fa9bb-023b-4cf2-a53a-2583c23f14db",
   "metadata": {},
   "outputs": [
    {
     "name": "stdout",
     "output_type": "stream",
     "text": [
      "<class 'numpy.matrix'>\n"
     ]
    }
   ],
   "source": [
    "matr1 = np.matrix(arr13)\n",
    "print(type(matr1))"
   ]
  },
  {
   "cell_type": "code",
   "execution_count": 40,
   "id": "ab1ee6c2-fe43-4171-8432-51b02b2f1c51",
   "metadata": {},
   "outputs": [
    {
     "name": "stdout",
     "output_type": "stream",
     "text": [
      "[[6 6]\n",
      " [6 6]]\n",
      "<class 'numpy.matrix'>\n"
     ]
    }
   ],
   "source": [
    "matr2 = np.matrix(np.full([2,2],6))\n",
    "print (matr2)\n",
    "print (type(matr2))"
   ]
  },
  {
   "cell_type": "code",
   "execution_count": 53,
   "id": "d85e856b-d4f8-4d82-a2c1-f006b7695e8a",
   "metadata": {},
   "outputs": [
    {
     "name": "stdout",
     "output_type": "stream",
     "text": [
      "[[47 46]\n",
      " [47 46]]\n"
     ]
    }
   ],
   "source": [
    "matr3 = matr1*matr2-[1,2]\n",
    "print (matr3)"
   ]
  },
  {
   "cell_type": "code",
   "execution_count": 55,
   "id": "dea01c12-73d2-4ff5-931f-a930581b548d",
   "metadata": {},
   "outputs": [
    {
     "name": "stdout",
     "output_type": "stream",
     "text": [
      "93\n"
     ]
    }
   ],
   "source": [
    "print(np.sum(matr3[1]))"
   ]
  },
  {
   "cell_type": "code",
   "execution_count": 50,
   "id": "36d7a97d-e82b-4d86-845e-f7ad8672e6db",
   "metadata": {},
   "outputs": [],
   "source": [
    "from numpy.linalg import inv"
   ]
  },
  {
   "cell_type": "code",
   "execution_count": 54,
   "id": "5b8f01a4-c778-4b99-86b2-02444725e2fb",
   "metadata": {},
   "outputs": [
    {
     "data": {
      "text/plain": [
       "matrix([[47, 47],\n",
       "        [46, 46]])"
      ]
     },
     "execution_count": 54,
     "metadata": {},
     "output_type": "execute_result"
    }
   ],
   "source": [
    "np.transpose(matr3)"
   ]
  },
  {
   "cell_type": "code",
   "execution_count": null,
   "id": "bc6d775e-f315-4646-8846-abca96203ae4",
   "metadata": {},
   "outputs": [],
   "source": []
  },
  {
   "cell_type": "code",
   "execution_count": null,
   "id": "0dce1076-de11-4e7a-bd11-8e8183dcdc6e",
   "metadata": {},
   "outputs": [],
   "source": []
  },
  {
   "cell_type": "code",
   "execution_count": null,
   "id": "df510a9c-b236-498e-88c5-65f54dc60669",
   "metadata": {},
   "outputs": [],
   "source": []
  },
  {
   "cell_type": "code",
   "execution_count": null,
   "id": "c9be61b9-92e5-4c06-ac67-dfecd8cefc59",
   "metadata": {},
   "outputs": [],
   "source": []
  },
  {
   "cell_type": "code",
   "execution_count": null,
   "id": "a5a0f0af-ee28-433c-b26b-3c410f058d0d",
   "metadata": {},
   "outputs": [],
   "source": []
  },
  {
   "cell_type": "code",
   "execution_count": null,
   "id": "5f0c948c-efb4-4472-ad4c-4c7a89c8412f",
   "metadata": {},
   "outputs": [],
   "source": []
  },
  {
   "cell_type": "code",
   "execution_count": null,
   "id": "92995382-2391-4087-989f-9796347680ca",
   "metadata": {},
   "outputs": [],
   "source": []
  },
  {
   "cell_type": "code",
   "execution_count": null,
   "id": "c6470c62-0406-4740-848d-0ceb667c37e2",
   "metadata": {},
   "outputs": [],
   "source": []
  },
  {
   "cell_type": "code",
   "execution_count": null,
   "id": "112c0f85-fc6a-46e2-af6b-f2f9702e4870",
   "metadata": {},
   "outputs": [],
   "source": []
  },
  {
   "cell_type": "code",
   "execution_count": null,
   "id": "32131cb5-4a5e-416f-ae5e-ec87d701efcb",
   "metadata": {},
   "outputs": [],
   "source": []
  },
  {
   "cell_type": "code",
   "execution_count": null,
   "id": "8ecb30d2-374c-4969-a16b-81d4cd65aaf2",
   "metadata": {},
   "outputs": [],
   "source": []
  },
  {
   "cell_type": "code",
   "execution_count": null,
   "id": "2ea019ce-2c5a-41c4-9626-2a8ccd609746",
   "metadata": {},
   "outputs": [],
   "source": []
  },
  {
   "cell_type": "code",
   "execution_count": null,
   "id": "8bbe809b-5274-4e9f-8107-d79f44019fe9",
   "metadata": {},
   "outputs": [],
   "source": []
  },
  {
   "cell_type": "code",
   "execution_count": null,
   "id": "e739e1de-c05d-4e02-b447-38b8aa679f49",
   "metadata": {},
   "outputs": [],
   "source": []
  },
  {
   "cell_type": "code",
   "execution_count": null,
   "id": "71bf1119-e77b-46e0-942e-8f005b63cbe4",
   "metadata": {},
   "outputs": [],
   "source": []
  }
 ],
 "metadata": {
  "kernelspec": {
   "display_name": "Python [conda env:base] *",
   "language": "python",
   "name": "conda-base-py"
  },
  "language_info": {
   "codemirror_mode": {
    "name": "ipython",
    "version": 3
   },
   "file_extension": ".py",
   "mimetype": "text/x-python",
   "name": "python",
   "nbconvert_exporter": "python",
   "pygments_lexer": "ipython3",
   "version": "3.13.5"
  }
 },
 "nbformat": 4,
 "nbformat_minor": 5
}
